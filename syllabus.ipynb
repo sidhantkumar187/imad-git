{
 "cells": [
  {
   "cell_type": "markdown",
   "metadata": {},
   "source": [
    "# Python Syllabus"
   ]
  },
  {
   "cell_type": "markdown",
   "metadata": {},
   "source": [
    "#### Unit - 1"
   ]
  },
  {
   "cell_type": "markdown",
   "metadata": {},
   "source": [
    "##### Python features --- \n",
    "Interpreted , Object-Oriented , High-level Data Structure , Dynamic Typed and Binding , Readable, Multi-paradigm , Extensible design, Community Envolved Design(PEP)"
   ]
  },
  {
   "cell_type": "markdown",
   "metadata": {},
   "source": [
    "##### Applications\n",
    "Web Development,\n",
    "Application Scripting,\n",
    "Image Manipulation,\n",
    "Machine Learning ,\n",
    "Big Data,"
   ]
  },
  {
   "cell_type": "markdown",
   "metadata": {},
   "source": [
    "##### Python 2 vs Python 3\n",
    "Not Backward Compatible"
   ]
  },
  {
   "cell_type": "markdown",
   "metadata": {},
   "source": [
    "##### No Implicit Conversion in Python"
   ]
  },
  {
   "cell_type": "code",
   "execution_count": 1,
   "metadata": {},
   "outputs": [
    {
     "ename": "TypeError",
     "evalue": "can only concatenate str (not \"int\") to str",
     "output_type": "error",
     "traceback": [
      "\u001b[1;31m---------------------------------------------------------------------------\u001b[0m",
      "\u001b[1;31mTypeError\u001b[0m                                 Traceback (most recent call last)",
      "\u001b[1;32m<ipython-input-1-3aeeae831010>\u001b[0m in \u001b[0;36m<module>\u001b[1;34m\u001b[0m\n\u001b[0;32m      1\u001b[0m \u001b[0ma\u001b[0m\u001b[1;33m=\u001b[0m\u001b[1;34m\"Guru\"\u001b[0m\u001b[1;33m\u001b[0m\u001b[1;33m\u001b[0m\u001b[0m\n\u001b[0;32m      2\u001b[0m \u001b[0mb\u001b[0m \u001b[1;33m=\u001b[0m \u001b[1;36m99\u001b[0m\u001b[1;33m\u001b[0m\u001b[1;33m\u001b[0m\u001b[0m\n\u001b[1;32m----> 3\u001b[1;33m \u001b[0mprint\u001b[0m\u001b[1;33m(\u001b[0m\u001b[0ma\u001b[0m\u001b[1;33m+\u001b[0m\u001b[0mb\u001b[0m\u001b[1;33m)\u001b[0m\u001b[1;33m\u001b[0m\u001b[1;33m\u001b[0m\u001b[0m\n\u001b[0m",
      "\u001b[1;31mTypeError\u001b[0m: can only concatenate str (not \"int\") to str"
     ]
    }
   ],
   "source": [
    "a=\"Guru\"\n",
    "b = 99\n",
    "print(a+b)"
   ]
  },
  {
   "cell_type": "code",
   "execution_count": 2,
   "metadata": {},
   "outputs": [
    {
     "name": "stdout",
     "output_type": "stream",
     "text": [
      "Guru99\n"
     ]
    }
   ],
   "source": [
    "a=\"Guru\"\n",
    "b = 99\n",
    "print(a+str(b))"
   ]
  },
  {
   "cell_type": "code",
   "execution_count": 4,
   "metadata": {},
   "outputs": [
    {
     "name": "stdout",
     "output_type": "stream",
     "text": [
      "Something\n",
      "Something New\n",
      "Something\n"
     ]
    }
   ],
   "source": [
    "# Local variables have scope in the method only\n",
    "# But Global variables have scope throughout the program\n",
    "\n",
    "f = \"Something\"\n",
    "print(f)\n",
    "\n",
    "def any_func():\n",
    "    f = \"Something New\"       # This is local varibale redeclared with name of f. But the scope of this is limited to Mehtod only.\n",
    "    print(f)\n",
    "\n",
    "any_func()\n",
    "print(f)"
   ]
  },
  {
   "cell_type": "code",
   "execution_count": 5,
   "metadata": {},
   "outputs": [
    {
     "name": "stdout",
     "output_type": "stream",
     "text": [
      "40\n"
     ]
    }
   ],
   "source": [
    "# Any variable in Python can be redeclared also\n",
    "\n",
    "x = \"Some thing\"\n",
    "x = 40\n",
    "print(x)"
   ]
  },
  {
   "cell_type": "markdown",
   "metadata": {},
   "source": [
    "##### Membership Operators\n",
    "Tests for membership in Strings, Tuples and Lists"
   ]
  },
  {
   "cell_type": "code",
   "execution_count": 1,
   "metadata": {},
   "outputs": [
    {
     "name": "stdout",
     "output_type": "stream",
     "text": [
      "Yes, \"apple\" is in the 'fruits' list\n"
     ]
    }
   ],
   "source": [
    "# in operator\n",
    "\n",
    "thislist = [\"apple\", \"banana\", \"cherry\"]\n",
    "if \"apple\" in thislist:\n",
    "  print(\"Yes, \\\"apple\\\" is in the 'fruits' list\") "
   ]
  },
  {
   "cell_type": "code",
   "execution_count": 2,
   "metadata": {},
   "outputs": [
    {
     "name": "stdout",
     "output_type": "stream",
     "text": [
      "Yes , 'grapes' aren't in thislist\n"
     ]
    }
   ],
   "source": [
    "# not in operator\n",
    "\n",
    "if \"grapes\" not in thislist:\n",
    "    print(\"Yes , 'grapes' aren't in thislist\")"
   ]
  },
  {
   "cell_type": "code",
   "execution_count": 9,
   "metadata": {},
   "outputs": [
    {
     "data": {
      "text/plain": [
       "3"
      ]
     },
     "execution_count": 9,
     "metadata": {},
     "output_type": "execute_result"
    }
   ],
   "source": [
    "len(thislist)"
   ]
  },
  {
   "cell_type": "markdown",
   "metadata": {},
   "source": [
    "##### Identity Operators\n",
    "To determine whether a value is of a certain type,class\n",
    "is , is not"
   ]
  },
  {
   "cell_type": "code",
   "execution_count": 19,
   "metadata": {},
   "outputs": [
    {
     "name": "stdout",
     "output_type": "stream",
     "text": [
      "1 is integer\n",
      "2 is integer\n",
      "It may be String\n",
      "0.4 is float\n"
     ]
    }
   ],
   "source": [
    "# is , is not\n",
    "arr = [1,2,\"string\",0.4]\n",
    "for item in arr:\n",
    "    \n",
    "    if (type(item) is int):\n",
    "        print(f\"{item} is integer\")\n",
    "        \n",
    "    elif (type(item) is float):\n",
    "        print(f\"{item} is float\")\n",
    "        \n",
    "    elif (type(item) is not float or int):\n",
    "        print(\"It may be String\")"
   ]
  },
  {
   "cell_type": "markdown",
   "metadata": {},
   "source": [
    "##### Keywords in Python\n",
    "All the keywords except True, False, None are lowercase in Python\n",
    "##### and, as, in, or, is, pass, yield, assert"
   ]
  },
  {
   "cell_type": "markdown",
   "metadata": {},
   "source": [
    "##### Some syntax points:\n",
    "1. Multiline Content"
   ]
  },
  {
   "cell_type": "code",
   "execution_count": 1,
   "metadata": {},
   "outputs": [],
   "source": [
    "# Using continuation character(\\) -- explicit line continuation\n",
    "a = 1 + 2 + 3 + \\\n",
    "    4 + 5 + 6 + \\\n",
    "    7 + 8 + 9\n",
    "# using braces\n",
    "a = (1 + 2 + 3 +\n",
    "    4 + 5 + 6 +\n",
    "    7 + 8 + 9)\n",
    "# or using any other braces like [] , {}\n",
    "colors = ['red',\n",
    "          'blue',\n",
    "          'green']"
   ]
  },
  {
   "cell_type": "markdown",
   "metadata": {},
   "source": [
    "Putting Multiple Statements in single line"
   ]
  },
  {
   "cell_type": "code",
   "execution_count": 7,
   "metadata": {},
   "outputs": [
    {
     "name": "stdout",
     "output_type": "stream",
     "text": [
      "Five\n"
     ]
    },
    {
     "data": {
      "text/plain": [
       "5"
      ]
     },
     "execution_count": 7,
     "metadata": {},
     "output_type": "execute_result"
    }
   ],
   "source": [
    "a = 1; b = 2; c = 3 \n",
    "# Similar to:\n",
    "            # a = 1\n",
    "            # b = 2\n",
    "            # c = 3\n",
    "# Example:\n",
    "if True: print(\"Five\"); a = 5\n",
    "# Similar to:\n",
    "        # if True:\n",
    "        #     print('Hello')\n",
    "        #     a = 5\n",
    "a"
   ]
  },
  {
   "cell_type": "markdown",
   "metadata": {},
   "source": [
    "### Variables:"
   ]
  },
  {
   "cell_type": "markdown",
   "metadata": {},
   "source": [
    "##### Variables in Python are references to Objects but the actual data is contained in the objects.\n",
    "Think of Python variables as pointers"
   ]
  },
  {
   "cell_type": "code",
   "execution_count": 6,
   "metadata": {},
   "outputs": [
    {
     "name": "stdout",
     "output_type": "stream",
     "text": [
      "140707504371824\n",
      "140707504371824\n",
      "775054283120\n",
      "775054282864\n"
     ]
    }
   ],
   "source": [
    "x = 100\n",
    "x = 42\n",
    "# We assign a pointer to point to the OBJECT 42 which was earlier pointing to the OBJECT 100\n",
    "\n",
    "x = 42\n",
    "y = 42\n",
    "print(id(x))\n",
    "print(id(y))\n",
    "# SO , Both the object reference(pointers) x & y are pointing to the same object 42\n",
    "#--------------------------------------------NOTE---------------------------------------------\n",
    "\n",
    "x = 258\n",
    "y = 259\n",
    "\n",
    "print(id(x))\n",
    "print(id(y))\n",
    "# This id same funda is only limited up to 256 only."
   ]
  },
  {
   "cell_type": "markdown",
   "metadata": {},
   "source": [
    "Every instance (object or variable) has an identity, i.e. an integer which is unique within the script or program, i.e. other objects have different identities. "
   ]
  },
  {
   "cell_type": "code",
   "execution_count": 25,
   "metadata": {},
   "outputs": [
    {
     "name": "stdout",
     "output_type": "stream",
     "text": [
      "1 <class 'int'>\n",
      "2 <class 'str'>\n",
      "Three <class 'str'>\n"
     ]
    }
   ],
   "source": [
    "# Assigning Multiple Values to multiple variables:\n",
    "a,b,c = 1,'2',\"Three\"\n",
    "print(a,type(a))\n",
    "print(b,type(b))\n",
    "print(c,type(c))"
   ]
  },
  {
   "cell_type": "code",
   "execution_count": 5,
   "metadata": {},
   "outputs": [
    {
     "name": "stdout",
     "output_type": "stream",
     "text": [
      "3.14\n",
      "5.140000000000001\n"
     ]
    }
   ],
   "source": [
    "# Note there are no constants in Python\n",
    "# Just don't change their value and name them using UPPER CASE letters ONLY      LOL :)\n",
    "\n",
    "PI = 3.14\n",
    "print(PI)\n",
    "PI = PI + 2\n",
    "print(PI)"
   ]
  },
  {
   "cell_type": "code",
   "execution_count": 26,
   "metadata": {},
   "outputs": [],
   "source": [
    "# Testing None\n",
    "\n",
    "var = None\n",
    "if var:\n",
    "    print(var)\n",
    "\n",
    "# An undeclared variable has value None + A declared variable with value assigned None is also None  :)"
   ]
  },
  {
   "cell_type": "code",
   "execution_count": 28,
   "metadata": {},
   "outputs": [
    {
     "ename": "SyntaxError",
     "evalue": "unexpected EOF while parsing (<ipython-input-28-64de2e2114d0>, line 2)",
     "output_type": "error",
     "traceback": [
      "\u001b[1;36m  File \u001b[1;32m\"<ipython-input-28-64de2e2114d0>\"\u001b[1;36m, line \u001b[1;32m2\u001b[0m\n\u001b[1;33m    def func():\u001b[0m\n\u001b[1;37m               ^\u001b[0m\n\u001b[1;31mSyntaxError\u001b[0m\u001b[1;31m:\u001b[0m unexpected EOF while parsing\n"
     ]
    }
   ],
   "source": [
    "# Pass Statement does nothing. But act as an Dummy Statement\n",
    "def func():"
   ]
  },
  {
   "cell_type": "code",
   "execution_count": 29,
   "metadata": {},
   "outputs": [],
   "source": [
    "# But using pass will not Give any error\n",
    "def func():                                 # Pass means function under construction\n",
    "    pass"
   ]
  },
  {
   "cell_type": "code",
   "execution_count": 33,
   "metadata": {},
   "outputs": [
    {
     "name": "stdout",
     "output_type": "stream",
     "text": [
      "10 100 200 300\n",
      "10.5 150.0\n",
      "3.14j 3.14 0.0\n"
     ]
    }
   ],
   "source": [
    "# Numeric Literal\n",
    "\n",
    "a = 0b1010 #Binary Literals\n",
    "b = 100 #Decimal Literal \n",
    "c = 0o310 #Octal Literal\n",
    "d = 0x12c #Hexadecimal Literal\n",
    "\n",
    "#Float Literal\n",
    "float_1 = 10.5 \n",
    "float_2 = 1.5e2  # 1.5 * 100 i.e 150.0\n",
    "\n",
    "#Complex Literal \n",
    "x = 3.14j  # Means --- (0 + 3.14 i^)\n",
    "\n",
    "print(a,b,c,d)\n",
    "print(float_1, float_2)\n",
    "print(x, x.imag, x.real)"
   ]
  },
  {
   "cell_type": "code",
   "execution_count": 7,
   "metadata": {},
   "outputs": [
    {
     "name": "stdout",
     "output_type": "stream",
     "text": [
      "x is True\n",
      "y is False\n",
      "a: 5\n",
      "b: 10\n"
     ]
    }
   ],
   "source": [
    "# Boolean Literals--------------------------------      True ~ 1    ,  False ~ 0\n",
    "\n",
    "x = (1 == True)         # Thus x is assigned (True)    -----------Note:   True (not true)\n",
    "y = (1 == False)\n",
    "\n",
    "a = True + 4 # True is treated as 1 in python\n",
    "b = False + 10 # And False is treated as 0\n",
    "\n",
    "print(\"x is\", x)\n",
    "print(\"y is\", y)\n",
    "print(\"a:\", a)\n",
    "print(\"b:\", b)"
   ]
  },
  {
   "cell_type": "markdown",
   "metadata": {},
   "source": [
    "### Sequential Data Types"
   ]
  },
  {
   "cell_type": "markdown",
   "metadata": {},
   "source": [
    "There are six sequential Data types in Python:"
   ]
  },
  {
   "cell_type": "markdown",
   "metadata": {},
   "source": [
    "<ul>\n",
    "    <li>strings</li>\n",
    "    <li>byte sequences</li>  <p>Byte Objects are sequence of small integers. Ranging between 0 to 255</p><br/>\n",
    "    <li>byte arays</li>\n",
    "    <li>lists</li>\n",
    "    <li>tuples</li>\n",
    "    <li>range objects</li>\n",
    "</ul>"
   ]
  },
  {
   "cell_type": "markdown",
   "metadata": {},
   "source": [
    "### Arithmetic Operations"
   ]
  },
  {
   "cell_type": "code",
   "execution_count": 7,
   "metadata": {},
   "outputs": [
    {
     "name": "stdout",
     "output_type": "stream",
     "text": [
      "3.3333333333333335\n",
      "3\n"
     ]
    }
   ],
   "source": [
    "# True vs Floor division\n",
    "# True ---- /\n",
    "# Floor ----- //\n",
    "\n",
    "a = 10\n",
    "b = 3\n",
    "print(a/b)\n",
    "print(a//b)\n",
    "\n",
    "# Floor division gives the largest integer value smaller than the result of true division\n",
    "# i.e in this case 3.333333 is True division which has 3 as largest integer value smaller than itself."
   ]
  },
  {
   "cell_type": "code",
   "execution_count": 8,
   "metadata": {},
   "outputs": [
    {
     "data": {
      "text/plain": [
       "(1000, 100000)"
      ]
     },
     "execution_count": 8,
     "metadata": {},
     "output_type": "execute_result"
    }
   ],
   "source": [
    "10**3,10**5   # Exponentiation"
   ]
  },
  {
   "cell_type": "code",
   "execution_count": 11,
   "metadata": {},
   "outputs": [
    {
     "data": {
      "text/plain": [
       "(True, False, True)"
      ]
     },
     "execution_count": 11,
     "metadata": {},
     "output_type": "execute_result"
    }
   ],
   "source": [
    "True or False,True and False,not False    # Note: These are not Bitwise or and not"
   ]
  },
  {
   "cell_type": "code",
   "execution_count": 14,
   "metadata": {},
   "outputs": [
    {
     "data": {
      "text/plain": [
       "(3, 2, 1)"
      ]
     },
     "execution_count": 14,
     "metadata": {},
     "output_type": "execute_result"
    }
   ],
   "source": [
    "2 | 3, 2 & 3, 2 ^ 3       # 010 | 011, 010 & 011, 010^011\n",
    "                    # Gives:   011,       010,      001\n",
    "    # Similarly << >> shift operators"
   ]
  },
  {
   "cell_type": "markdown",
   "metadata": {},
   "source": [
    "<img src=\"strings.jpg\">"
   ]
  },
  {
   "cell_type": "markdown",
   "metadata": {},
   "source": [
    "### Operations on list\n",
    "<ol>\n",
    "    <li>.append(element)</li>\n",
    "    <li>.remove(element)</li>\n",
    "    <li>.insert(index,element)</li>\n",
    "    <li>.extend(iterable or another list)</li>\n",
    "    <li>.pop()</li>\n",
    "    <li>del list_name[index or slice]</li>\n",
    "    <li>.clear()</li>\n",
    "    <li>.index(element)</li>\n",
    "    <li>.count(element)</li>\n",
    "    <li>.copy()</li>\n",
    "    <li>.reverse()</li>\n",
    "    <li>.sort()</li>\n",
    "</ol>"
   ]
  },
  {
   "cell_type": "code",
   "execution_count": 1,
   "metadata": {},
   "outputs": [
    {
     "data": {
      "text/plain": [
       "[1, 2, 3, 4, 5]"
      ]
     },
     "execution_count": 1,
     "metadata": {},
     "output_type": "execute_result"
    }
   ],
   "source": [
    "# Append\n",
    "li = [1,2,3,4]\n",
    "\n",
    "li.append(5)\n",
    "li"
   ]
  },
  {
   "cell_type": "code",
   "execution_count": 2,
   "metadata": {},
   "outputs": [
    {
     "data": {
      "text/plain": [
       "[1, 2, 6, 3, 4, 5]"
      ]
     },
     "execution_count": 2,
     "metadata": {},
     "output_type": "execute_result"
    }
   ],
   "source": [
    "# Insert\n",
    "li.insert(2,6)      # insert(index,element)\n",
    "li\n",
    "# So insert method always takes two arguments: index (at which we want to insert) element (to be inserted)"
   ]
  },
  {
   "cell_type": "code",
   "execution_count": 3,
   "metadata": {},
   "outputs": [
    {
     "data": {
      "text/plain": [
       "[1, 2, 6, 3, 4, 5, 9]"
      ]
     },
     "execution_count": 3,
     "metadata": {},
     "output_type": "execute_result"
    }
   ],
   "source": [
    "li.insert(7,9)     # inserting at index out of the list would result in insertion at end of the list\n",
    "li"
   ]
  },
  {
   "cell_type": "code",
   "execution_count": 4,
   "metadata": {},
   "outputs": [
    {
     "data": {
      "text/plain": [
       "[10, 1, 2, 6, 3, 4, 5, 9]"
      ]
     },
     "execution_count": 4,
     "metadata": {},
     "output_type": "execute_result"
    }
   ],
   "source": [
    "li.insert(-8,10)   # Similarly for negative index\n",
    "li"
   ]
  },
  {
   "cell_type": "code",
   "execution_count": 5,
   "metadata": {},
   "outputs": [
    {
     "data": {
      "text/plain": [
       "[10, 1, 2, 6, 3, 4, 5, 9, 0, 1, 2, 3, 4, 5, 6, 7, 8]"
      ]
     },
     "execution_count": 5,
     "metadata": {},
     "output_type": "execute_result"
    }
   ],
   "source": [
    "# Extend\n",
    "\n",
    "li.extend([0,1,2,3,4,5,6,7,8])  # or li.extend(range(9)) i.e Takes iterable as an argument also\n",
    "li"
   ]
  },
  {
   "cell_type": "code",
   "execution_count": 6,
   "metadata": {},
   "outputs": [
    {
     "data": {
      "text/plain": [
       "17"
      ]
     },
     "execution_count": 6,
     "metadata": {},
     "output_type": "execute_result"
    }
   ],
   "source": [
    "len(li)  # returns length of list"
   ]
  },
  {
   "cell_type": "code",
   "execution_count": 7,
   "metadata": {},
   "outputs": [
    {
     "data": {
      "text/plain": [
       "[1, 2, 6, 3, 4, 5, 9, 0, 1, 2, 3, 4, 5, 6, 7, 8]"
      ]
     },
     "execution_count": 7,
     "metadata": {},
     "output_type": "execute_result"
    }
   ],
   "source": [
    "# Deleting an item from th list\n",
    "\n",
    "del li[0]     # Deleting the element at an index\n",
    "li"
   ]
  },
  {
   "cell_type": "code",
   "execution_count": 8,
   "metadata": {},
   "outputs": [],
   "source": [
    "del li[0:3]     # Deleting multiple items i.e (Deletion of 0,1,2 th elements)\n",
    "# del li        Will delet the entire list"
   ]
  },
  {
   "cell_type": "code",
   "execution_count": 9,
   "metadata": {},
   "outputs": [
    {
     "data": {
      "text/plain": [
       "[3, 4, 5, 9, 0, 1, 2, 3, 4, 5, 6, 7, 8]"
      ]
     },
     "execution_count": 9,
     "metadata": {},
     "output_type": "execute_result"
    }
   ],
   "source": [
    "li"
   ]
  },
  {
   "cell_type": "code",
   "execution_count": 10,
   "metadata": {},
   "outputs": [
    {
     "data": {
      "text/plain": [
       "([5, 9, 0],\n",
       " [5, 0],\n",
       " [1, 0, 9],\n",
       " [3, 4, 5, 9, 0, 1, 2, 3, 4, 5, 6, 7, 8],\n",
       " [3, 4, 5, 9, 0, 1, 2, 3, 4, 5, 6, 7, 8])"
      ]
     },
     "execution_count": 10,
     "metadata": {},
     "output_type": "execute_result"
    }
   ],
   "source": [
    "li[2:5], li[2:5:2], li[5:2:-1], li[::], li[:]   # Slicing"
   ]
  },
  {
   "cell_type": "code",
   "execution_count": 114,
   "metadata": {},
   "outputs": [
    {
     "data": {
      "text/plain": [
       "[8, 7, 6, 5, 4, 3, 2, 1, 0, 9, 6, 5, 4]"
      ]
     },
     "execution_count": 114,
     "metadata": {},
     "output_type": "execute_result"
    }
   ],
   "source": [
    "# printing reverse of the list\n",
    "\n",
    "li[::-1]"
   ]
  },
  {
   "cell_type": "code",
   "execution_count": 115,
   "metadata": {},
   "outputs": [
    {
     "data": {
      "text/plain": [
       "[4, 5, 9, 0, 1, 2, 3, 4, 5, 6, 7, 8]"
      ]
     },
     "execution_count": 115,
     "metadata": {},
     "output_type": "execute_result"
    }
   ],
   "source": [
    "li.remove(6)             # Deletes the first occurence of the element 6 from the list\n",
    "li"
   ]
  },
  {
   "cell_type": "code",
   "execution_count": 116,
   "metadata": {},
   "outputs": [
    {
     "data": {
      "text/plain": [
       "8"
      ]
     },
     "execution_count": 116,
     "metadata": {},
     "output_type": "execute_result"
    }
   ],
   "source": [
    "li.pop()      # will delete and return the last element from the list`"
   ]
  },
  {
   "cell_type": "markdown",
   "metadata": {},
   "source": [
    "### Deep Copy"
   ]
  },
  {
   "cell_type": "code",
   "execution_count": 10,
   "metadata": {},
   "outputs": [
    {
     "name": "stdout",
     "output_type": "stream",
     "text": [
      "['a', 'b', 'c'] ['a', 'b', 'c']\n",
      "['a', 'b', 'c', 5] ['a', 'b', 'c', 5]\n"
     ]
    }
   ],
   "source": [
    "x = [1,2,3,4]\n",
    "y = ['a','b','c']\n",
    "x = y               # Creating a Deep Copy    i.e  Changes in one list will lead to change\n",
    "print(x,y)\n",
    "x.append(5)\n",
    "print(x,y)         # Hence the value of y is also implicitly changed while changing x          (Due to Deep Copy)"
   ]
  },
  {
   "cell_type": "markdown",
   "metadata": {},
   "source": [
    "### Shallow Copy"
   ]
  },
  {
   "cell_type": "code",
   "execution_count": 132,
   "metadata": {},
   "outputs": [
    {
     "name": "stdout",
     "output_type": "stream",
     "text": [
      "['a', 'b', 'c'] ['a', 'b', 'c']\n",
      "['a', 'b', 'c', 5] ['a', 'b', 'c']\n"
     ]
    }
   ],
   "source": [
    "a = [1,2,3,4]\n",
    "b = ['a','b','c']\n",
    "a = b.copy()\n",
    "print(a,b)\n",
    "a.append(5)\n",
    "print(a,b)         # Hence the value of b is not changed by changing a                (Due to Shallow Copy)"
   ]
  },
  {
   "cell_type": "code",
   "execution_count": 6,
   "metadata": {},
   "outputs": [
    {
     "name": "stdout",
     "output_type": "stream",
     "text": [
      "10\n",
      "[1, 2, 3, 4]\n",
      "4\n",
      "1\n"
     ]
    }
   ],
   "source": [
    "# Some more operations\n",
    "a = [1,2,3,4]\n",
    "print(sum(a))\n",
    "print(sorted([4,3,2,1]))\n",
    "print(max(a))\n",
    "print(min(a))\n",
    "# Thus get to know that lists in python are heterogeneous arrays with super-powers "
   ]
  },
  {
   "cell_type": "markdown",
   "metadata": {},
   "source": [
    "### List Comprehension\n",
    "List comprehension is generally more compact and faster than normal functions and loops for creating list.\n",
    "\n",
    "[value for-loop conditional] or by \n",
    "[value-of-if if else value-of-else for-loop]"
   ]
  },
  {
   "cell_type": "code",
   "execution_count": 135,
   "metadata": {},
   "outputs": [
    {
     "data": {
      "text/plain": [
       "[1, 2, 4, 8, 16, 32, 64, 128, 256, 512]"
      ]
     },
     "execution_count": 135,
     "metadata": {},
     "output_type": "execute_result"
    }
   ],
   "source": [
    "pow2 = [2 ** x for x in range(10)]        # List named pow2 which contains 2^0, 2^1, ....... 2^9   (i.e 2**0 , 2**1........)\n",
    "\"\"\"\n",
    "    Equivalent to:\n",
    "    pow2 = []\n",
    "    for x in range(10):\n",
    "        pow2.append(2 ** x)\n",
    "\"\"\"\n",
    "pow2"
   ]
  },
  {
   "cell_type": "markdown",
   "metadata": {},
   "source": [
    "##### List Comp with conditionals"
   ]
  },
  {
   "cell_type": "code",
   "execution_count": 141,
   "metadata": {},
   "outputs": [
    {
     "data": {
      "text/plain": [
       "[0, 2, 4, 6, 8, 10, 12, 14, 16, 18]"
      ]
     },
     "execution_count": 141,
     "metadata": {},
     "output_type": "execute_result"
    }
   ],
   "source": [
    "div_by_2 = [x for x in range(20) if x%2==0]\n",
    "div_by_2"
   ]
  },
  {
   "cell_type": "code",
   "execution_count": 144,
   "metadata": {},
   "outputs": [
    {
     "data": {
      "text/plain": [
       "[0, 10]"
      ]
     },
     "execution_count": 144,
     "metadata": {},
     "output_type": "execute_result"
    }
   ],
   "source": [
    "# List Comp with multiple conditionals\n",
    "div_by_2_and_5 = [x for x in range(20) if x%2==0 if x%5==0]       # Returns the numbers which are divisible by 2 & 5 both\n",
    "div_by_2_and_5"
   ]
  },
  {
   "cell_type": "code",
   "execution_count": 149,
   "metadata": {},
   "outputs": [
    {
     "data": {
      "text/plain": [
       "['0 / by 2',\n",
       " '1 not / by 2',\n",
       " '2 / by 2',\n",
       " '3 not / by 2',\n",
       " '4 / by 2',\n",
       " '5 not / by 2',\n",
       " '6 / by 2',\n",
       " '7 not / by 2',\n",
       " '8 / by 2',\n",
       " '9 not / by 2',\n",
       " '10 / by 2',\n",
       " '11 not / by 2',\n",
       " '12 / by 2',\n",
       " '13 not / by 2',\n",
       " '14 / by 2']"
      ]
     },
     "execution_count": 149,
     "metadata": {},
     "output_type": "execute_result"
    }
   ],
   "source": [
    "# List conditionals with if else\n",
    "div_by_2_or_not = [f'{x} / by 2' if x%2==0 else f'{x} not / by 2' for x in range(15)]\n",
    "div_by_2_or_not"
   ]
  },
  {
   "cell_type": "code",
   "execution_count": 117,
   "metadata": {},
   "outputs": [
    {
     "data": {
      "text/plain": [
       "True"
      ]
     },
     "execution_count": 117,
     "metadata": {},
     "output_type": "execute_result"
    }
   ],
   "source": [
    "1 in li"
   ]
  },
  {
   "cell_type": "code",
   "execution_count": 118,
   "metadata": {},
   "outputs": [
    {
     "data": {
      "text/plain": [
       "False"
      ]
     },
     "execution_count": 118,
     "metadata": {},
     "output_type": "execute_result"
    }
   ],
   "source": [
    "'1' in li"
   ]
  },
  {
   "cell_type": "code",
   "execution_count": 119,
   "metadata": {},
   "outputs": [
    {
     "data": {
      "text/plain": [
       "False"
      ]
     },
     "execution_count": 119,
     "metadata": {},
     "output_type": "execute_result"
    }
   ],
   "source": [
    "1 not in li"
   ]
  },
  {
   "cell_type": "code",
   "execution_count": 9,
   "metadata": {},
   "outputs": [
    {
     "name": "stdout",
     "output_type": "stream",
     "text": [
      "['a', 'b', 1, 'a', 'b', 1]\n",
      "['a', 'b', 1]\n"
     ]
    }
   ],
   "source": [
    "# Repetitions\n",
    "\n",
    "arr = ['a','b',1]\n",
    "print(arr*2)                   # Slicing and Repititon don't alter the original list. See:-\n",
    "print(arr)"
   ]
  },
  {
   "cell_type": "code",
   "execution_count": 121,
   "metadata": {},
   "outputs": [
    {
     "data": {
      "text/plain": [
       "['a', 'b', 'c', 'a', 'b', 'c']"
      ]
     },
     "execution_count": 121,
     "metadata": {},
     "output_type": "execute_result"
    }
   ],
   "source": [
    "add = ['a','b','c']\n",
    "add + add"
   ]
  },
  {
   "cell_type": "markdown",
   "metadata": {},
   "source": [
    "### Tuple"
   ]
  },
  {
   "cell_type": "markdown",
   "metadata": {},
   "source": [
    "Tuples are immutable collection of objects.\n",
    "Someways similar to list in means of indexing, slicicing, nested objects"
   ]
  },
  {
   "cell_type": "code",
   "execution_count": 3,
   "metadata": {},
   "outputs": [
    {
     "data": {
      "text/plain": [
       "('Alice', 'Bob')"
      ]
     },
     "execution_count": 3,
     "metadata": {},
     "output_type": "execute_result"
    }
   ],
   "source": [
    "tup = \"Alice\",\"Bob\"      # Enclosing without delimiter\n",
    "tup[0:2]"
   ]
  },
  {
   "cell_type": "code",
   "execution_count": 4,
   "metadata": {},
   "outputs": [
    {
     "data": {
      "text/plain": [
       "944814567752"
      ]
     },
     "execution_count": 4,
     "metadata": {},
     "output_type": "execute_result"
    }
   ],
   "source": [
    "id(tup)"
   ]
  },
  {
   "cell_type": "code",
   "execution_count": 5,
   "metadata": {},
   "outputs": [],
   "source": [
    "tup = tup + (\"Johnny\",\"Lever\")  # By this way we are assigning a newly created tuple object\n",
    "                                # There is no change in the earlier tuple. But its reference\n",
    "                                # tup is now pointing to newly created tuple \n",
    "                                # (Hence immutability is maintained)"
   ]
  },
  {
   "cell_type": "code",
   "execution_count": 6,
   "metadata": {},
   "outputs": [
    {
     "data": {
      "text/plain": [
       "('Alice', 'Bob', 'Johnny', 'Lever')"
      ]
     },
     "execution_count": 6,
     "metadata": {},
     "output_type": "execute_result"
    }
   ],
   "source": [
    "tup"
   ]
  },
  {
   "cell_type": "code",
   "execution_count": 7,
   "metadata": {},
   "outputs": [
    {
     "data": {
      "text/plain": [
       "944832015080"
      ]
     },
     "execution_count": 7,
     "metadata": {},
     "output_type": "execute_result"
    }
   ],
   "source": [
    "id(tup)"
   ]
  },
  {
   "cell_type": "code",
   "execution_count": 8,
   "metadata": {},
   "outputs": [
    {
     "data": {
      "text/plain": [
       "('Alice', 'Bob', 'Johnny', 'Lever', 'Alice', 'Bob', 'Johnny', 'Lever')"
      ]
     },
     "execution_count": 8,
     "metadata": {},
     "output_type": "execute_result"
    }
   ],
   "source": [
    "tup = tup*2\n",
    "tup"
   ]
  },
  {
   "cell_type": "code",
   "execution_count": 9,
   "metadata": {},
   "outputs": [],
   "source": [
    "# del tup\n",
    "# print(tup)\n",
    "# ---------------------------------------------------------------------------\n",
    "# NameError                                 Traceback (most recent call last)\n",
    "# <ipython-input-60-bcdbccb5f0f8> in <module>\n",
    "#       1 del tup\n",
    "# ----> 2 print(tup)\n",
    "\n",
    "# NameError: name 'tup' is not defined"
   ]
  },
  {
   "cell_type": "markdown",
   "metadata": {},
   "source": [
    "Converting list and string into a tuple"
   ]
  },
  {
   "cell_type": "code",
   "execution_count": 10,
   "metadata": {},
   "outputs": [
    {
     "name": "stdout",
     "output_type": "stream",
     "text": [
      "(1, 2, 3, 4)\n",
      "('s', 'h', 'a', 'n', 'u')\n"
     ]
    }
   ],
   "source": [
    "list1 = [1,2,3,4]\n",
    "str1 = \"shanu\"\n",
    "tup_list = tuple(list1)\n",
    "tup_str = tuple(str1)\n",
    "print(tup_list)\n",
    "print(tup_str)"
   ]
  },
  {
   "cell_type": "code",
   "execution_count": 11,
   "metadata": {},
   "outputs": [
    {
     "name": "stdout",
     "output_type": "stream",
     "text": [
      "4\n",
      "a\n"
     ]
    }
   ],
   "source": [
    "print(max(tup_list))\n",
    "print(min(tup_str))\n",
    "# max  and  min are based in ASCII values"
   ]
  },
  {
   "cell_type": "code",
   "execution_count": 12,
   "metadata": {},
   "outputs": [
    {
     "name": "stdout",
     "output_type": "stream",
     "text": [
      "We are now prevented from _xsrf missing argument POST\n"
     ]
    }
   ],
   "source": [
    "print('We are now prevented from _xsrf missing argument POST')"
   ]
  },
  {
   "cell_type": "code",
   "execution_count": 14,
   "metadata": {},
   "outputs": [
    {
     "data": {
      "text/plain": [
       "0"
      ]
     },
     "execution_count": 14,
     "metadata": {},
     "output_type": "execute_result"
    }
   ],
   "source": [
    "# Methods\n",
    "\n",
    "tup.index('Alice')\n"
   ]
  },
  {
   "cell_type": "code",
   "execution_count": 16,
   "metadata": {},
   "outputs": [
    {
     "data": {
      "text/plain": [
       "(1, 2, 3, 4, 5)"
      ]
     },
     "execution_count": 16,
     "metadata": {},
     "output_type": "execute_result"
    }
   ],
   "source": [
    "name = 'Shanu'\n",
    "li = [1,2,3,4,5]\n",
    "tuple(name)\n",
    "tuple(li)"
   ]
  },
  {
   "cell_type": "markdown",
   "metadata": {},
   "source": [
    "#### Dictionary\n",
    "Unordered collection of Data Values"
   ]
  },
  {
   "cell_type": "markdown",
   "metadata": {},
   "source": [
    "###### key can be any Immutable data type (i.e String , Integer , Tuple)\n",
    "###### value can be any of the Data-Type and could be function call also (but not def)\n",
    "    Key must be unique but value can be duplicate\n",
    "    Nested dictionary also possible"
   ]
  },
  {
   "cell_type": "code",
   "execution_count": 18,
   "metadata": {},
   "outputs": [],
   "source": [
    "d = {\n",
    "    'name':'Sidhant',\n",
    "    'rollno':'11162509',\n",
    "    'branch':'cse'\n",
    "}"
   ]
  },
  {
   "cell_type": "code",
   "execution_count": 19,
   "metadata": {},
   "outputs": [
    {
     "name": "stdout",
     "output_type": "stream",
     "text": [
      "{'name': 'Sidhant', 'rollno': '11162509', 'branch': 'cse'}\n"
     ]
    }
   ],
   "source": [
    "print(d)"
   ]
  },
  {
   "cell_type": "code",
   "execution_count": 20,
   "metadata": {},
   "outputs": [
    {
     "data": {
      "text/plain": [
       "'One'"
      ]
     },
     "execution_count": 20,
     "metadata": {},
     "output_type": "execute_result"
    }
   ],
   "source": [
    "d = {\n",
    "    1:'One',\n",
    "    2:'Two',\n",
    "    3:'Three'\n",
    "}\n",
    "d[1]      # Accessing by specifying key"
   ]
  },
  {
   "cell_type": "code",
   "execution_count": 22,
   "metadata": {},
   "outputs": [
    {
     "data": {
      "text/plain": [
       "{1: 'ONE', 2: 'Two', 3: 'Three'}"
      ]
     },
     "execution_count": 22,
     "metadata": {},
     "output_type": "execute_result"
    }
   ],
   "source": [
    "d[1] = 'ONE'     # Updating by simply assgining\n",
    "d"
   ]
  },
  {
   "cell_type": "code",
   "execution_count": 23,
   "metadata": {},
   "outputs": [
    {
     "data": {
      "text/plain": [
       "{2: 'Two', 3: 'Three'}"
      ]
     },
     "execution_count": 23,
     "metadata": {},
     "output_type": "execute_result"
    }
   ],
   "source": [
    "del d[1]           # Deletion of item having key 1\n",
    "d"
   ]
  },
  {
   "cell_type": "code",
   "execution_count": 25,
   "metadata": {},
   "outputs": [
    {
     "name": "stdout",
     "output_type": "stream",
     "text": [
      "2\n",
      "3\n"
     ]
    }
   ],
   "source": [
    "for i in d:\n",
    "    print(i)\n",
    "    # Will iterate only for keys"
   ]
  },
  {
   "cell_type": "code",
   "execution_count": 26,
   "metadata": {},
   "outputs": [
    {
     "name": "stdout",
     "output_type": "stream",
     "text": [
      "Two\n",
      "Three\n"
     ]
    }
   ],
   "source": [
    "for i in d.values():\n",
    "    print(i)"
   ]
  },
  {
   "cell_type": "code",
   "execution_count": 27,
   "metadata": {},
   "outputs": [
    {
     "name": "stdout",
     "output_type": "stream",
     "text": [
      "2\n",
      "3\n"
     ]
    }
   ],
   "source": [
    "for i in d.keys():\n",
    "    print(i)"
   ]
  },
  {
   "cell_type": "code",
   "execution_count": 28,
   "metadata": {},
   "outputs": [
    {
     "name": "stdout",
     "output_type": "stream",
     "text": [
      "2 :  Two\n",
      "3 :  Three\n"
     ]
    }
   ],
   "source": [
    "for k,v in d.items():\n",
    "    print(k,': ',v)"
   ]
  },
  {
   "cell_type": "markdown",
   "metadata": {},
   "source": [
    "###### Functions on Dictionary\n",
    "\n",
    "\n",
    "##### Note: dict is a keyword data-type in python. Don't name any dictionary as dict\n",
    "##### Note: Here item is meant by Key : Value both"
   ]
  },
  {
   "cell_type": "code",
   "execution_count": 34,
   "metadata": {},
   "outputs": [],
   "source": [
    "# 1. len(dict)\n",
    "# 2. del dict     Deletes whole Dictionary\n",
    "# 3. max(dict)    Returns the key with max value\n",
    "# 4. min(dict)\n",
    "# 5. str(dict)    Returns string representation of dictionary\n",
    "# 6. type(dict)\n",
    "# 7. cmp(d1,d2)"
   ]
  },
  {
   "cell_type": "code",
   "execution_count": 32,
   "metadata": {},
   "outputs": [
    {
     "data": {
      "text/plain": [
       "2"
      ]
     },
     "execution_count": 32,
     "metadata": {},
     "output_type": "execute_result"
    }
   ],
   "source": [
    "len(d)"
   ]
  },
  {
   "cell_type": "markdown",
   "metadata": {},
   "source": [
    "##### Methods of dictionary "
   ]
  },
  {
   "cell_type": "code",
   "execution_count": 37,
   "metadata": {},
   "outputs": [],
   "source": [
    "# 1. d.copy()  Returns a shallow copy of the dictionary\n",
    "\n",
    "# 2. d.get(KEY)  Returns the value of item having key = KEY\n",
    "\n",
    "                # Advantage of get method: will not cause any error if specified key not present. unlike dict['key']\n",
    "\n",
    "# 3. d.pop(KEY)  Deletes the item having key = KEY\n",
    "\n",
    "# 4. d.popitem()  Deletes the last inserted item in dictionary\n",
    "\n",
    "# 5. d.clear()    Clears the whole dictionary (only empties the dictionary but does'nt delete the object)\n",
    "\n",
    "# 6. d.items()   Returns the whole list of (key1 , value), (key2,value) (key3,value) as tuples\n",
    "\n",
    "# 7. d.values()   Retruns an iterable containing all the values present in dict\n",
    "\n",
    "# 8. d.keys()     Returns an iterable containing all the keys\n",
    "\n",
    "# 9. d.update(d1)  Updates / Adds the items of d1 dictionary into d\n",
    "\n",
    "# 10. dict.fromkeys([k1,k2,k3] , v-all)  Generates a dictionary having keys = [k1,k2,k3] & each having value = v-all  "
   ]
  },
  {
   "cell_type": "markdown",
   "metadata": {},
   "source": [
    "##### Dictionary Comprehenesion"
   ]
  },
  {
   "cell_type": "code",
   "execution_count": null,
   "metadata": {},
   "outputs": [],
   "source": [
    "# {key:value for (key,value) in zip(list1,list2) }"
   ]
  },
  {
   "cell_type": "code",
   "execution_count": 42,
   "metadata": {},
   "outputs": [
    {
     "name": "stdout",
     "output_type": "stream",
     "text": [
      "1 :  one\n",
      "2 :  two\n",
      "3 :  three\n",
      "4 :  four\n"
     ]
    }
   ],
   "source": [
    "# zip (list1,list2)\n",
    "                    # To map the similar index of two containers (returns a single ITERABLE object)\n",
    "a = [1,2,3,4]\n",
    "b = ['one','two','three','four']\n",
    "\n",
    "c = zip(a,b)\n",
    "for (k,v) in c:\n",
    "    print(k,': ',v)"
   ]
  },
  {
   "cell_type": "code",
   "execution_count": 44,
   "metadata": {},
   "outputs": [
    {
     "data": {
      "text/plain": [
       "{1: 'one', 2: 'two', 3: 'three', 4: 'four'}"
      ]
     },
     "execution_count": 44,
     "metadata": {},
     "output_type": "execute_result"
    }
   ],
   "source": [
    "comp = {key:val for (key,val) in zip(a,b)}\n",
    "comp"
   ]
  },
  {
   "cell_type": "code",
   "execution_count": 50,
   "metadata": {},
   "outputs": [
    {
     "data": {
      "text/plain": [
       "{0: 0, 1: 1, 2: 4, 3: 9, 4: 16, 5: 25, 6: 36, 7: 49, 8: 64, 9: 81}"
      ]
     },
     "execution_count": 50,
     "metadata": {},
     "output_type": "execute_result"
    }
   ],
   "source": [
    "# or use\n",
    "comp = {x:x**2 for x in range(10)}\n",
    "comp\n",
    "\n",
    "# Here both key,value are related to only variable x"
   ]
  },
  {
   "cell_type": "code",
   "execution_count": 51,
   "metadata": {},
   "outputs": [
    {
     "data": {
      "text/plain": [
       "{0: 0, 2: 4, 4: 16, 6: 36, 8: 64}"
      ]
     },
     "execution_count": 51,
     "metadata": {},
     "output_type": "execute_result"
    }
   ],
   "source": [
    "comp = {x:x**2 for x in range(10) if x%2==0}\n",
    "comp"
   ]
  },
  {
   "cell_type": "markdown",
   "metadata": {},
   "source": [
    "### Date and Time "
   ]
  },
  {
   "cell_type": "code",
   "execution_count": 52,
   "metadata": {},
   "outputs": [
    {
     "name": "stdout",
     "output_type": "stream",
     "text": [
      "1556694354.5965214\n"
     ]
    }
   ],
   "source": [
    "import time\n",
    "\n",
    "print(time.time())      # It returns the ticks since Jan 1, 1970"
   ]
  },
  {
   "cell_type": "markdown",
   "metadata": {},
   "source": [
    "##### Time Tuple"
   ]
  },
  {
   "cell_type": "markdown",
   "metadata": {},
   "source": [
    "<img src = \"Time-tuple.jpg\">"
   ]
  },
  {
   "cell_type": "code",
   "execution_count": 59,
   "metadata": {},
   "outputs": [
    {
     "name": "stdout",
     "output_type": "stream",
     "text": [
      "2019, 5, 1\n",
      "\n"
     ]
    }
   ],
   "source": [
    "# Getting current time\n",
    "t = time.localtime()      # to get all the time-tuple of present time \n",
    "print(t.tm_year,t.tm_mon,t.tm_mday,sep = ', ')\n",
    "print()"
   ]
  },
  {
   "cell_type": "code",
   "execution_count": 61,
   "metadata": {},
   "outputs": [
    {
     "data": {
      "text/plain": [
       "'Wed May  1 12:55:45 2019'"
      ]
     },
     "execution_count": 61,
     "metadata": {},
     "output_type": "execute_result"
    }
   ],
   "source": [
    "# Getting User Readable Time\n",
    "t = time.asctime(time.localtime())\n",
    "t"
   ]
  },
  {
   "cell_type": "code",
   "execution_count": null,
   "metadata": {},
   "outputs": [],
   "source": [
    "# Methods of time module\n",
    "\n",
    "# time.asctime(tuple_time)   returns a HUMAN READABLE time\n",
    "\n",
    "# time.mktime(tuple_time)    Returns the tick ecpochs of the time-tuple passed"
   ]
  },
  {
   "cell_type": "code",
   "execution_count": 67,
   "metadata": {},
   "outputs": [
    {
     "name": "stdout",
     "output_type": "stream",
     "text": [
      "     April 2019\n",
      "Mo Tu We Th Fr Sa Su\n",
      " 1  2  3  4  5  6  7\n",
      " 8  9 10 11 12 13 14\n",
      "15 16 17 18 19 20 21\n",
      "22 23 24 25 26 27 28\n",
      "29 30\n",
      "\n"
     ]
    }
   ],
   "source": [
    "# Calendar Module\n",
    "\n",
    "import calendar\n",
    "\n",
    "cal = calendar.month(2019,4)\n",
    "print(cal)"
   ]
  },
  {
   "cell_type": "code",
   "execution_count": 70,
   "metadata": {},
   "outputs": [
    {
     "data": {
      "text/plain": [
       "2"
      ]
     },
     "execution_count": 70,
     "metadata": {},
     "output_type": "execute_result"
    }
   ],
   "source": [
    "# Methods\n",
    "\n",
    "# calendar.calendar(year)      Returns the whole calendar of the specified year\n",
    "\n",
    "# calendar.isleap(year)\n",
    "\n",
    "# calendar.month(year,month)    Returns the calendar view of month sepcified\n",
    "\n",
    "# calendar.weekday(year,month,day)    Returns the day at the specidied date       (0,1,2.... 0~Monday)\n",
    "\n",
    "calendar.weekday(2019,5,1)"
   ]
  },
  {
   "cell_type": "markdown",
   "metadata": {},
   "source": [
    "##### Module and Functions"
   ]
  },
  {
   "cell_type": "code",
   "execution_count": 71,
   "metadata": {},
   "outputs": [],
   "source": [
    "# A namespace is a dictionary of variable names (keys) and their corresponding objects (values)\n",
    "\n",
    "# Each function has its own local namespace"
   ]
  },
  {
   "cell_type": "code",
   "execution_count": 72,
   "metadata": {},
   "outputs": [],
   "source": [
    "#     If locals() is called from within a function, it will return all the names that can be accessed locally from \n",
    "#     that function.\n",
    "\n",
    "#     If globals() is called from within a function, it will return all the names that can be accessed globally from \n",
    "#     that function."
   ]
  },
  {
   "cell_type": "code",
   "execution_count": null,
   "metadata": {},
   "outputs": [],
   "source": [
    "# Package is a folder containing one __init__.py file in which all the module files inside that folder are imported.\n",
    "\n",
    "# So if we import a package like (Phone) having two files inside it (One.py , Two.py) and one file (__ini__.py).\n",
    "# Can access all the mehtods of one.py and two.py\n",
    "\n",
    "# init.py contains:\n",
    "# from one.py import *\n",
    "# from two.py import *            # imports all the methods present in two.py\n",
    "\n",
    "# hence usage:\n",
    "\n",
    "# import phone\n",
    "# phone.one_method()\n",
    "# phone.two_method()"
   ]
  },
  {
   "cell_type": "code",
   "execution_count": null,
   "metadata": {},
   "outputs": [],
   "source": [
    "# Functions:\n",
    "\n",
    "# All arguments are passed by reference in functions\n",
    "\n",
    "# Four types of Arguments:\n",
    "\n",
    "# 1.  Required args           (simple)                 \n",
    "# 2.  Keyword args             (specify values for args)\n",
    "# 3.  Default                (default value already pressent in function defination)\n",
    "# 4.  Variable-length            (*args (tuple))"
   ]
  },
  {
   "cell_type": "code",
   "execution_count": 73,
   "metadata": {},
   "outputs": [],
   "source": [
    "# Required args\n",
    "\n",
    "# (simple args if not passed then give error)"
   ]
  },
  {
   "cell_type": "code",
   "execution_count": 77,
   "metadata": {},
   "outputs": [
    {
     "name": "stdout",
     "output_type": "stream",
     "text": [
      "20\n"
     ]
    }
   ],
   "source": [
    "# Keyword args\n",
    "\n",
    "def func(num,mul):                     \n",
    "    print(num*mul)\n",
    "\n",
    "func(mul = 2 , num = 10)          # sp"
   ]
  },
  {
   "cell_type": "code",
   "execution_count": 78,
   "metadata": {},
   "outputs": [
    {
     "name": "stdout",
     "output_type": "stream",
     "text": [
      "Default\n",
      "Passed\n"
     ]
    }
   ],
   "source": [
    "# Default args\n",
    "\n",
    "def func(msg = 'Default'):\n",
    "    print(msg)\n",
    "    \n",
    "func()\n",
    "func('Passed')                    # Works for both bcz of default"
   ]
  },
  {
   "cell_type": "code",
   "execution_count": 82,
   "metadata": {},
   "outputs": [
    {
     "name": "stdout",
     "output_type": "stream",
     "text": [
      "Message is : Hello senders: \n",
      "Message is : Hii senders: Alice Bob Can \n",
      "Message is : Hola senders: Shanu \n"
     ]
    }
   ],
   "source": [
    "# Variable args\n",
    "\n",
    "def func(msg, *sender):\n",
    "    print('Message is :',msg ,end=' ')\n",
    "    \n",
    "    print('senders:',end=' ')\n",
    "    for i in sender:\n",
    "        print(i ,end=' ')\n",
    "    print()\n",
    "\n",
    "func('Hello')\n",
    "func('Hii','Alice','Bob','Can')\n",
    "func('Hola','Shanu')                   # Args can be 0,1 or more and treated as tuple inside function"
   ]
  },
  {
   "cell_type": "markdown",
   "metadata": {},
   "source": [
    "##### LAmbda Functions"
   ]
  },
  {
   "cell_type": "code",
   "execution_count": 83,
   "metadata": {},
   "outputs": [
    {
     "name": "stdout",
     "output_type": "stream",
     "text": [
      "WeThey\n"
     ]
    }
   ],
   "source": [
    "# Anonymous functions\n",
    "# using lambda keyword\n",
    "\n",
    "fun = lambda arg1,arg2 : arg1 + arg2\n",
    "\n",
    "print(fun('We','They'))"
   ]
  },
  {
   "cell_type": "markdown",
   "metadata": {},
   "source": [
    "## OOP"
   ]
  },
  {
   "cell_type": "code",
   "execution_count": 94,
   "metadata": {},
   "outputs": [
    {
     "name": "stdout",
     "output_type": "stream",
     "text": [
      "3\n",
      "two\n"
     ]
    },
    {
     "data": {
      "text/plain": [
       "mappingproxy({'__module__': '__main__',\n",
       "              'wheels': 'two',\n",
       "              '__init__': <function __main__.Bike.__init__(self, name, price)>,\n",
       "              'run': <function __main__.Bike.run(self, speed)>,\n",
       "              '__dict__': <attribute '__dict__' of 'Bike' objects>,\n",
       "              '__weakref__': <attribute '__weakref__' of 'Bike' objects>,\n",
       "              '__doc__': None})"
      ]
     },
     "execution_count": 94,
     "metadata": {},
     "output_type": "execute_result"
    }
   ],
   "source": [
    "class Bike:\n",
    "    \n",
    "    # class attrib\n",
    "    wheels = 'two'                                # This is CLASS ATTRIB\n",
    "    \n",
    "    # instance method\n",
    "    def __init__ (self,name,price):               # When want to define attrib of instances specify in constructor \n",
    "        self.name = name                          # name , price are INSTANCE ATTRIB\n",
    "        self.price = price\n",
    "        \n",
    "    def run(self,speed):\n",
    "        pass\n",
    "\n",
    "b1 = Bike('R15',100000)\n",
    "b2 = Bike('FZS',115000)\n",
    "\n",
    "\n",
    "b1.wheels = 3                            # NOTE: Here wheels is not meant by var of class it is ATTRIB OF INSTANCE b1 \n",
    "\n",
    "                                        # b1.wheels = 3 ------ means making a new attribute wheels and then assigning it\n",
    "                                        # value = 3\n",
    "print(b1.wheels)\n",
    "print(b2.wheels)        # Here b2 has no attrib wheels so it would return the attrib of class (which is two) \n",
    "\n",
    "b1.name = 'Yamaha'\n",
    "b1.name\n",
    "\n",
    "Bike.__dict__"
   ]
  },
  {
   "cell_type": "code",
   "execution_count": 93,
   "metadata": {},
   "outputs": [
    {
     "name": "stdout",
     "output_type": "stream",
     "text": [
      "The number of students: 3\n",
      "{'name': 'shanu'}\n",
      "{'rollno': 11162509}\n"
     ]
    }
   ],
   "source": [
    "class Student:  \n",
    "    count = 0  \n",
    "    def __init__(self):  \n",
    "        Student.count = Student.count + 1  \n",
    "s1=Student()  \n",
    "s2=Student()  \n",
    "s3=Student() \n",
    "s1.name = 'shanu'\n",
    "s2.rollno = 11162509\n",
    "s3.branch = 'cse'\n",
    "print(\"The number of students:\",Student.count)\n",
    "print(s1.__dict__)\n",
    "print(s2.__dict__)"
   ]
  },
  {
   "cell_type": "code",
   "execution_count": 97,
   "metadata": {},
   "outputs": [
    {
     "name": "stdout",
     "output_type": "stream",
     "text": [
      "Starting Thread-1\n",
      "Starting Thread-2\n",
      "Thread-1: Wed May  1 21:43:23 2019\n",
      "Thread-2: Wed May  1 21:43:24 2019Thread-1: Wed May  1 21:43:24 2019\n",
      "\n",
      "Thread-1: Wed May  1 21:43:25 2019\n",
      "Thread-2: Wed May  1 21:43:26 2019\n",
      "Thread-1: Wed May  1 21:43:26 2019\n",
      "Thread-1: Wed May  1 21:43:27 2019\n",
      "Exiting Thread-1\n",
      "Thread-2: Wed May  1 21:43:28 2019\n",
      "Thread-2: Wed May  1 21:43:30 2019\n",
      "Thread-2: Wed May  1 21:43:32 2019\n",
      "Exiting Thread-2\n",
      "Exiting Main Thread\n"
     ]
    }
   ],
   "source": [
    "import threading\n",
    "import time\n",
    "\n",
    "exitFlag = 0\n",
    "\n",
    "class myThread (threading.Thread):\n",
    "   def __init__(self, threadID, name, counter):\n",
    "      threading.Thread.__init__(self)\n",
    "      self.threadID = threadID\n",
    "      self.name = name\n",
    "      self.counter = counter\n",
    "   def run(self):\n",
    "      print (\"Starting \" + self.name)\n",
    "      print_time(self.name, self.counter, 5)\n",
    "      print (\"Exiting \" + self.name)\n",
    "\n",
    "def print_time(threadName, delay, counter):\n",
    "   while counter:\n",
    "      if exitFlag:\n",
    "         threadName.exit()\n",
    "      time.sleep(delay)\n",
    "      print (\"%s: %s\" % (threadName, time.ctime(time.time())))\n",
    "      counter -= 1\n",
    "\n",
    "# Create new threads\n",
    "thread1 = myThread(1, \"Thread-1\", 1)\n",
    "thread2 = myThread(2, \"Thread-2\", 2)\n",
    "\n",
    "# Start new Threads\n",
    "thread1.start()\n",
    "thread2.start()\n",
    "thread1.join()\n",
    "thread2.join()\n",
    "print (\"Exiting Main Thread\")"
   ]
  },
  {
   "cell_type": "code",
   "execution_count": null,
   "metadata": {},
   "outputs": [],
   "source": []
  }
 ],
 "metadata": {
  "kernelspec": {
   "display_name": "Python 3",
   "language": "python",
   "name": "python3"
  },
  "language_info": {
   "codemirror_mode": {
    "name": "ipython",
    "version": 3
   },
   "file_extension": ".py",
   "mimetype": "text/x-python",
   "name": "python",
   "nbconvert_exporter": "python",
   "pygments_lexer": "ipython3",
   "version": "3.7.1"
  }
 },
 "nbformat": 4,
 "nbformat_minor": 2
}
